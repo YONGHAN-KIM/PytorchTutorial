{
 "cells": [
  {
   "cell_type": "code",
   "execution_count": 1,
   "metadata": {
    "ExecuteTime": {
     "end_time": "2018-09-16T10:58:21.702942Z",
     "start_time": "2018-09-16T10:58:20.940738Z"
    }
   },
   "outputs": [],
   "source": [
    "import torch\n",
    "import torch.nn as nn\n",
    "from torch.autograd import Variable\n",
    "import torch.optim as optim\n",
    "import torch.nn.functional as F\n",
    "import numpy as np\n",
    "import torchvision.transforms as transforms\n",
    "import torchvision.datasets as vdatasets\n",
    "\n",
    "torch.manual_seed(1)\n",
    "import matplotlib.pyplot as plt\n",
    "%matplotlib inline"
   ]
  },
  {
   "cell_type": "markdown",
   "metadata": {
    "ExecuteTime": {
     "end_time": "2018-09-16T16:22:10.750175Z",
     "start_time": "2018-09-16T16:22:10.744712Z"
    }
   },
   "source": [
    "# 참고\n",
    "- http://cs231n.stanford.edu/\n",
    "- https://github.com/janishar/mit-deep-learning-book-pdf\n",
    "- https://ratsgo.github.io/deep%20learning/2017/04/22/NNtricks/\n",
    "- https://github.com/DSKSD/Pytorch_Fast_Campus_2018"
   ]
  },
  {
   "cell_type": "markdown",
   "metadata": {},
   "source": [
    "# 목차\n",
    "1. What is a neurla network?\n",
    "2. Gradient based learning\n",
    " - 2.1 Cost function\n",
    "     - 2.1.1 MSE\n",
    "     - 2.1.2 Softmax and Cross entropy\n",
    " - 2.2 Gradient Descent\n",
    "3. Hidden unit\n",
    " - 3.1 sigmoid\n",
    " - 3.2 tanh\n",
    " - 3.3 relu\n",
    "4. backpropagation"
   ]
  },
  {
   "cell_type": "markdown",
   "metadata": {},
   "source": [
    "# 1. What is a neural networks?  \n",
    "<img src='./images/neural_network.png' width=400>  \n",
    "- MLP(mult layer perceptros), deep feedforward network이라고도 불리며 deep learning model의 기본이다.\n",
    "- nn(neural networks)의 목적은 $y=f^{*}(x)$에서 $f^{*}$를 근사하는 $f$를 학습하는 것이다.\n",
    "- nn은 $f(x)= f^{(3)}(f^{(2)}(f^{(1)}(x)))$처럼 체인 형식으로 구성되며 각  $f^{(n)}$는 hidden layer를 의미하며, 마지막 $f$는 output layer를 의미함.\n",
    "- hidden layer는 affine transformation과 activation function으로 된다. activation function은 주로 비선형 함수를 사용하여(sigmoid, tanh, ReLU등...) 선형연결로 풀 수 없는 문제도 해결할 수 있음.\n",
    "<img src='./images/perceptron.png' width=1000>\n"
   ]
  },
  {
   "cell_type": "markdown",
   "metadata": {},
   "source": [
    "# 2. Gradient based learning\n",
    "- gradient based learning은 gradient를 계산해 cost function을 optimization해 학습하는 방법이다.\n",
    "- nn도 다른 ml알고리즘과 동일하게 gradient descent방법으로 학습함.\n",
    "- 하지만 nn은 nonlinearity로 loss function은 non-convex됨.\n",
    "- convex한 경우는 global converge를 보장해준다.\n",
    "- non-convex인 nn에서 gradient descent는 global converge를 보장하지 않고 parameter 초기화에 민감하다.\n",
    "- 그래서 이후에 model이 잘 학습하기 위한 방법들을 배울 예정임.\n",
    "    - example) advnaced sgd, initailize weights ...\n",
    "- gradient는 backpropagation알고리즘으로 계산할 수 있음."
   ]
  },
  {
   "cell_type": "markdown",
   "metadata": {},
   "source": [
    "## 2.1. Cost functions\n",
    "- cost function은 사용자가 선택 수 있는데, 문제에 적합한 cost function을 선택해야함.\n",
    "- cost function은 primary cost function과 regularization term(L1 or L2 norm)을 합쳐서 사용하기도 함.  \n",
    "\n",
    "### 2.1.1 MSE\n",
    "- prediction과 target에 대한 차이의 제곱에 평균\n",
    "- 주로 수치형 결과에 많이 사용함.\n",
    "- gaussian distribution에 log-likelihood 동일함.\n",
    "$$ Loss(pred,taregt) = \\frac{1}{n}\\sum_{i}(pred_{i}-target_{i})^2$$\n",
    "### 2.1.2 Softmax and Cross entropy\n",
    "- Softmax함수는 어떤 벡터를 확률로 변환해준다.(벡터의 합이 1이됨.)\n",
    "- Cross entropy는 softmax distribution과 true distribution의 차이를 측정함.\n",
    "- softmax: \n",
    "$$ softmax(x)_{i}= \\frac{x_{i}}{\\sum_i x_{i}}$$  \n",
    "- CrossEntropy:\n",
    "$$ H(Target,Pred)= - \\sum_{i}Target_{i}\\log(Pred_{i})$$"
   ]
  },
  {
   "cell_type": "markdown",
   "metadata": {},
   "source": [
    "## 2.2 Gradient Descent\n",
    "- 머신러닝에서는 $f(x)$를 최적화하는 문제를 가진다.\n",
    "- 이 $f(x)$는 objective function, criterion이라고 불리며, 이것을 최소화하는 문제일 때 cost function, loss function, error function이라고 불린다.\n",
    "- $\\frac{\\partial}{\\partial x} f(x)$에 반대 방향으로 x를 이동하면 $f(x)$를 줄일 수 있다.  (=gradeitn descent)\n",
    "$$ x^{*} = x -\\eta \\frac{\\partial}{\\partial x} f(x)$$ \n",
    "<img src='./images/gradient_descent.png' width=600>  \n",
    "\n",
    "- $f'(x)=0$는 critical point로 minimum, maximum, saddle point이 될 수 있음\n",
    "- 이 critical point에서 가장 작은 값을 global minimum이라고 하는데 하나를 가질 수도 여러개를 가질 수도 있음. 그리고 global minimum이 아닌 minimum들은 local minimum이라고 함.\n",
    "- 딥러닝에서는 많은 local minima와 saddle point를 가져서 global minima에 도달하는 것은 어렵다. 그래서 어느정도 낮은 값에 해당하면 global minima가 아니라도 받아들인다.\n",
    "<img src='./images/minimum.png' width=600>  \n",
    "\n",
    "\n"
   ]
  },
  {
   "cell_type": "markdown",
   "metadata": {},
   "source": [
    "## 3. Activation function\n",
    "- 개별 뉴런에 들어오는 입력신호의 총합을 출력신호로 변환하는 함수를 활성화함수(activation function)라고 함.\n",
    "- 대게 비선형 함수를 사용하는데 선형함수를 사용하면 layer를 쌓는 의미가 없고 선형적인 결과만 얻기 때문임.\n",
    "### 3.1 Sigmoid\n",
    "- 로지스틱 함수라고 불리며 다음과 같다.  \n",
    "$$ \\sigma(x)=\\frac{1}{1+e(-x)} $$ \n",
    "- sigmoid함수는 과거에 많이 사용하였지만 다음과 같은 단점이 있음.\n",
    "    - 1. x<-5, x>5인 경우에 gradient가 지나치게 작아, 죽는 경우가 생김.(학습이 안됨.)\n",
    "    - 2. exp연산이 무거워 학습이 느려짐\n",
    "    - 3. 항상 양수의 값만 반환함.\n",
    "<img src='./images/sigmoid.png' width=300>  \n",
    "\n",
    "### 3.2 Tanh\n",
    "- sigmoid함수의 크기와 위치를 조절한 함수\n",
    "- tanh도 sigmoid를 개선한 것으로 여전히 단점은 남아있음 (1번 ,2번)\n",
    "$$ tanh(x)= 2\\sigma(2x)-1 = \\frac{e^{x}-e^{-x}}{e^{x}+e^{-x}}$$\n",
    "<img src='./images/tanh.png' width=300>  \n",
    "\n",
    "### 3.3 ReLU\n",
    "- ReLU는 다음과 같이 정의됨.\n",
    "$$ f(x)= max(0, x)$$\n",
    "- x가 양수면 gradient=1로 일정해 gradient가 0이되는 문제는 생기지가 않는다.\n",
    "- 하지만, 음수일 때는 gradient가 0으로 되는 단점을 가진다.\n",
    "<img src='./images/relu.png' width=300>  \n",
    "- 이런 단점을 극복하기 위해 Leaky ReLU가 고안됨."
   ]
  },
  {
   "cell_type": "markdown",
   "metadata": {},
   "source": [
    "# 4. Backpropagation\n",
    "Neural Network에서는 어떻게 gradient descent를 적용할까?  \n",
    "nn에서 output layer말고 hidden layer에서 gradient를 어떻게 계산할까?\n",
    "- Backpropagation알고리즘으로 network에 gradient를 계산함(간단하고 비용이 비싸지 않음.)\n",
    "- Backpropagation알고리즘은 단지 chain rule로 각 weight마다 gradient를 계산을 하는것임.\n",
    "<img src='./images/backprop_1.png' width=500>  \n",
    "\n",
    "- Backpropagation으로 계산된 gradient로 nn의 weights를 gradient descent로 업데이트함.\n",
    "- 실제 NN에서 연산은 행렬곱을 수행 -> gpu가 빠름.\n",
    "\n",
    "\n",
    "\n"
   ]
  },
  {
   "cell_type": "markdown",
   "metadata": {},
   "source": [
    "### 1. 데이터"
   ]
  },
  {
   "cell_type": "code",
   "execution_count": 2,
   "metadata": {
    "ExecuteTime": {
     "end_time": "2018-09-16T16:14:30.059128Z",
     "start_time": "2018-09-16T16:14:29.994016Z"
    }
   },
   "outputs": [],
   "source": [
    "train_dataset= vdatasets.MNIST(root='../../data/MNIST',\n",
    "                              train=True,\n",
    "                              transform=transforms.ToTensor(),\n",
    "                              download=True)\n",
    "test_dataset= vdatasets.MNIST(root='../../data/MNIST',\n",
    "                             train=False,\n",
    "                             transform=transforms.ToTensor(),\n",
    "                             download=True)\n",
    "\n",
    "train_loader= torch.utils.data.DataLoader(dataset=train_dataset,\n",
    "                                         batch_size=64,\n",
    "                                         shuffle=True,\n",
    "                                         num_workers=2)\n",
    "\n",
    "test_loader= torch.utils.data.DataLoader(dataset=test_dataset,\n",
    "                                        batch_size=64,\n",
    "                                        shuffle=True,\n",
    "                                        num_workers=2)"
   ]
  },
  {
   "cell_type": "code",
   "execution_count": 3,
   "metadata": {
    "ExecuteTime": {
     "end_time": "2018-09-16T16:14:30.440244Z",
     "start_time": "2018-09-16T16:14:30.423781Z"
    }
   },
   "outputs": [
    {
     "name": "stdout",
     "output_type": "stream",
     "text": [
      "torch.Size([1, 28, 28])\n",
      "tensor(5)\n"
     ]
    }
   ],
   "source": [
    "print(train_dataset[0][0].size())\n",
    "print(train_dataset[0][1])"
   ]
  },
  {
   "cell_type": "code",
   "execution_count": 4,
   "metadata": {
    "ExecuteTime": {
     "end_time": "2018-09-16T16:14:32.547277Z",
     "start_time": "2018-09-16T16:14:31.821050Z"
    }
   },
   "outputs": [
    {
     "data": {
      "image/png": "[encoded data removed]",
      "text/plain": [
       "<Figure size 432x288 with 9 Axes>"
      ]
     },
     "metadata": {},
     "output_type": "display_data"
    }
   ],
   "source": [
    "for i in range(9):\n",
    "    plt.subplot(3,3,i+1)\n",
    "    plt.imshow(train_dataset[i][0].squeeze(0).numpy(), cmap='gray', interpolation='none')\n",
    "    plt.title(\"Class {}\".format(train_dataset[i][1]))"
   ]
  },
  {
   "cell_type": "markdown",
   "metadata": {},
   "source": [
    "### 2. 모델링"
   ]
  },
  {
   "cell_type": "code",
   "execution_count": 5,
   "metadata": {
    "ExecuteTime": {
     "end_time": "2018-09-16T16:14:42.927050Z",
     "start_time": "2018-09-16T16:14:42.918036Z"
    }
   },
   "outputs": [],
   "source": [
    "class ANN(nn.Module):\n",
    "    def __init__(self, input_size, hidden_size, output_size):\n",
    "        super(ANN, self).__init__()\n",
    "        \n",
    "        self.linear1= nn.Linear(input_size, hidden_size)\n",
    "        self.linear2= nn.Linear(hidden_size, output_size)\n",
    "        \n",
    "    def forward(self, inputs):\n",
    "        outputs= self.linear1(inputs)\n",
    "        outputs= F.relu(outputs)\n",
    "        \n",
    "        return self.linear2(outputs)"
   ]
  },
  {
   "cell_type": "code",
   "execution_count": 6,
   "metadata": {
    "ExecuteTime": {
     "end_time": "2018-09-16T16:14:43.182901Z",
     "start_time": "2018-09-16T16:14:43.178977Z"
    }
   },
   "outputs": [],
   "source": [
    "EPOCH= 5\n",
    "LR= 0.01\n",
    "BATCH_SIZE= 64\n",
    "\n",
    "INPUT_SIZE= 784\n",
    "HIDDEN_SIZE= 512\n",
    "OUTPUT_SIZE= 10"
   ]
  },
  {
   "cell_type": "code",
   "execution_count": 7,
   "metadata": {
    "ExecuteTime": {
     "end_time": "2018-09-16T16:14:44.780721Z",
     "start_time": "2018-09-16T16:14:44.771597Z"
    }
   },
   "outputs": [
    {
     "data": {
      "text/plain": [
       "ANN(\n",
       "  (linear1): Linear(in_features=784, out_features=512, bias=True)\n",
       "  (linear2): Linear(in_features=512, out_features=10, bias=True)\n",
       ")"
      ]
     },
     "execution_count": 7,
     "metadata": {},
     "output_type": "execute_result"
    }
   ],
   "source": [
    "model= ANN(input_size=INPUT_SIZE, \n",
    "           hidden_size=HIDDEN_SIZE,\n",
    "           output_size=OUTPUT_SIZE)\n",
    "\n",
    "model.eval()"
   ]
  },
  {
   "cell_type": "markdown",
   "metadata": {},
   "source": [
    "### 3. 로스함수\n",
    "- cross entropy"
   ]
  },
  {
   "cell_type": "code",
   "execution_count": 8,
   "metadata": {
    "ExecuteTime": {
     "end_time": "2018-09-16T16:14:51.154072Z",
     "start_time": "2018-09-16T16:14:51.151153Z"
    }
   },
   "outputs": [],
   "source": [
    "loss_function= nn.CrossEntropyLoss() # softmax 함수 포함."
   ]
  },
  {
   "cell_type": "markdown",
   "metadata": {},
   "source": [
    "### 4. 옵티마이저\n",
    "- SGD사용."
   ]
  },
  {
   "cell_type": "code",
   "execution_count": 9,
   "metadata": {
    "ExecuteTime": {
     "end_time": "2018-09-16T16:14:55.545470Z",
     "start_time": "2018-09-16T16:14:55.542777Z"
    }
   },
   "outputs": [],
   "source": [
    "optimizer= optim.SGD(model.parameters(), lr=LR)"
   ]
  },
  {
   "cell_type": "markdown",
   "metadata": {},
   "source": [
    "###  5. 훈련"
   ]
  },
  {
   "cell_type": "code",
   "execution_count": 13,
   "metadata": {
    "ExecuteTime": {
     "end_time": "2018-08-11T12:06:07.541422Z",
     "start_time": "2018-08-11T12:05:53.349496Z"
    },
    "scrolled": true
   },
   "outputs": [
    {
     "name": "stdout",
     "output_type": "stream",
     "text": [
      "[0 / 5] [000/938] mean_loss : 0.846\n",
      "[0 / 5] [100/938] mean_loss : 0.764\n",
      "[0 / 5] [200/938] mean_loss : 0.685\n",
      "[0 / 5] [300/938] mean_loss : 0.630\n",
      "[0 / 5] [400/938] mean_loss : 0.596\n",
      "[0 / 5] [500/938] mean_loss : 0.549\n",
      "[0 / 5] [600/938] mean_loss : 0.520\n",
      "[0 / 5] [700/938] mean_loss : 0.508\n",
      "[0 / 5] [800/938] mean_loss : 0.487\n",
      "[0 / 5] [900/938] mean_loss : 0.463\n",
      "[1 / 5] [000/938] mean_loss : 0.355\n",
      "[1 / 5] [100/938] mean_loss : 0.457\n",
      "[1 / 5] [200/938] mean_loss : 0.428\n",
      "[1 / 5] [300/938] mean_loss : 0.430\n",
      "[1 / 5] [400/938] mean_loss : 0.420\n",
      "[1 / 5] [500/938] mean_loss : 0.396\n",
      "[1 / 5] [600/938] mean_loss : 0.398\n",
      "[1 / 5] [700/938] mean_loss : 0.404\n",
      "[1 / 5] [800/938] mean_loss : 0.391\n",
      "[1 / 5] [900/938] mean_loss : 0.385\n",
      "[2 / 5] [000/938] mean_loss : 0.567\n",
      "[2 / 5] [100/938] mean_loss : 0.372\n",
      "[2 / 5] [200/938] mean_loss : 0.362\n",
      "[2 / 5] [300/938] mean_loss : 0.360\n",
      "[2 / 5] [400/938] mean_loss : 0.359\n",
      "[2 / 5] [500/938] mean_loss : 0.348\n",
      "[2 / 5] [600/938] mean_loss : 0.360\n",
      "[2 / 5] [700/938] mean_loss : 0.367\n",
      "[2 / 5] [800/938] mean_loss : 0.352\n",
      "[2 / 5] [900/938] mean_loss : 0.352\n",
      "[3 / 5] [000/938] mean_loss : 0.367\n",
      "[3 / 5] [100/938] mean_loss : 0.347\n",
      "[3 / 5] [200/938] mean_loss : 0.319\n",
      "[3 / 5] [300/938] mean_loss : 0.342\n",
      "[3 / 5] [400/938] mean_loss : 0.340\n",
      "[3 / 5] [500/938] mean_loss : 0.329\n",
      "[3 / 5] [600/938] mean_loss : 0.330\n",
      "[3 / 5] [700/938] mean_loss : 0.326\n",
      "[3 / 5] [800/938] mean_loss : 0.324\n",
      "[3 / 5] [900/938] mean_loss : 0.319\n",
      "[4 / 5] [000/938] mean_loss : 0.331\n",
      "[4 / 5] [100/938] mean_loss : 0.309\n",
      "[4 / 5] [200/938] mean_loss : 0.303\n",
      "[4 / 5] [300/938] mean_loss : 0.310\n",
      "[4 / 5] [400/938] mean_loss : 0.321\n",
      "[4 / 5] [500/938] mean_loss : 0.309\n",
      "[4 / 5] [600/938] mean_loss : 0.307\n",
      "[4 / 5] [700/938] mean_loss : 0.316\n",
      "[4 / 5] [800/938] mean_loss : 0.311\n",
      "[4 / 5] [900/938] mean_loss : 0.309\n"
     ]
    }
   ],
   "source": [
    "for epoch in range(EPOCH):\n",
    "    losses=[]    \n",
    "    for i, (inputs, targets) in enumerate(train_loader):\n",
    "        model.zero_grad()\n",
    "        inputs= inputs.view(-1,784)\n",
    "        outputs= model(inputs)\n",
    "        loss= loss_function(outputs, targets)\n",
    "        loss.backward()\n",
    "        optimizer.step()\n",
    "        losses.append(loss.detach().numpy())\n",
    "        \n",
    "        if i% 100==0:\n",
    "            print(\"[%d / %d] [%03d/%d] mean_loss : %.3f\" % (epoch, EPOCH, i, len(train_loader), np.mean(losses)))\n",
    "            losses=[]\n",
    "\n",
    "    "
   ]
  },
  {
   "cell_type": "markdown",
   "metadata": {},
   "source": [
    "### 6. 테스트"
   ]
  },
  {
   "cell_type": "code",
   "execution_count": 14,
   "metadata": {
    "ExecuteTime": {
     "end_time": "2018-08-11T12:06:08.009383Z",
     "start_time": "2018-08-11T12:06:07.563748Z"
    }
   },
   "outputs": [
    {
     "name": "stdout",
     "output_type": "stream",
     "text": [
      "Accuracy : 0.9194\n"
     ]
    }
   ],
   "source": [
    "num_equal=0\n",
    "for i, (inputs, targets) in enumerate(test_loader):\n",
    "    inputs = inputs.view(-1, 784)\n",
    "    outputs= model(inputs)\n",
    "    \n",
    "    outputs= outputs.max(1)[1]\n",
    "    num_equal+= torch.eq(outputs, targets).sum().item()\n",
    "    \n",
    "\n",
    "print(\"Accuracy :\", num_equal/len(test_dataset))"
   ]
  },
  {
   "cell_type": "code",
   "execution_count": 15,
   "metadata": {
    "ExecuteTime": {
     "end_time": "2018-08-11T12:06:08.294835Z",
     "start_time": "2018-08-11T12:06:08.024989Z"
    }
   },
   "outputs": [
    {
     "name": "stdout",
     "output_type": "stream",
     "text": [
      "tensor(2)\n"
     ]
    },
    {
     "data": {
      "image/png": "[encoded data removed]",
      "text/plain": [
       "<PIL.Image.Image image mode=L size=28x28 at 0x1290530F0>"
      ]
     },
     "execution_count": 15,
     "metadata": {},
     "output_type": "execute_result"
    }
   ],
   "source": [
    "image= inputs[1].view(-1,28,28)\n",
    "image= transforms.ToPILImage()(image)\n",
    "\n",
    "print(outputs[1])\n",
    "image\n"
   ]
  }
 ],
 "metadata": {
  "kernelspec": {
   "display_name": "Python 3",
   "language": "python",
   "name": "python3"
  },
  "language_info": {
   "codemirror_mode": {
    "name": "ipython",
    "version": 3
   },
   "file_extension": ".py",
   "mimetype": "text/x-python",
   "name": "python",
   "nbconvert_exporter": "python",
   "pygments_lexer": "ipython3",
   "version": "3.6.4"
  },
  "varInspector": {
   "cols": {
    "lenName": 16,
    "lenType": 16,
    "lenVar": 40
   },
   "kernels_config": {
    "python": {
     "delete_cmd_postfix": "",
     "delete_cmd_prefix": "del ",
     "library": "var_list.py",
     "varRefreshCmd": "print(var_dic_list())"
    },
    "r": {
     "delete_cmd_postfix": ") ",
     "delete_cmd_prefix": "rm(",
     "library": "var_list.r",
     "varRefreshCmd": "cat(var_dic_list()) "
    }
   },
   "types_to_exclude": [
    "module",
    "function",
    "builtin_function_or_method",
    "instance",
    "_Feature"
   ],
   "window_display": false
  }
 },
 "nbformat": 4,
 "nbformat_minor": 2
}
