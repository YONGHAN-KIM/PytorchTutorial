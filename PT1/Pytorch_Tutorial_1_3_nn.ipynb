{
 "cells": [
  {
   "cell_type": "markdown",
   "metadata": {},
   "source": [
    "# 참고\n",
    "- https://pytorch.org/docs/0.4.0/nn.html\n",
    "- https://pytorch.org/tutorials/\n",
    "- https://ratsgo.github.io/machine%20learning/2017/10/12/terms/\n",
    "- https://github.com/DSKSD/Pytorch_Fast_Campus_2018"
   ]
  },
  {
   "cell_type": "code",
   "execution_count": 1,
   "metadata": {
    "ExecuteTime": {
     "end_time": "2018-08-22T06:18:37.925074Z",
     "start_time": "2018-08-22T06:18:37.492440Z"
    }
   },
   "outputs": [],
   "source": [
    "import torch\n",
    "import torch.nn as nn\n",
    "from torch.autograd import Variable\n",
    "import torch.optim as optim\n",
    "import torch.nn.functional as F\n",
    "import torchvision\n",
    "import numpy as np\n",
    "from collections import OrderedDict\n",
    "\n",
    "torch.manual_seed(1)\n",
    "\n",
    "import numpy as np\n",
    "import matplotlib.pyplot as plt\n",
    "%matplotlib inline"
   ]
  },
  {
   "cell_type": "markdown",
   "metadata": {},
   "source": [
    "# What is a PyTorch?\n",
    "- Tensor와 Optimizer, Neural Net등 GPU연산에 최적화된 모듈을 이용하여 빠르게 딥러닝 모델을 구현할 수 있는 프레임워크\n",
    "Facebook이 밀고 있던 lua기반의 torch를 python버전으로 포팅함.\n",
    "\n",
    "# > Pytorch Basic\n",
    "- Tensor\n",
    "- autograd\n",
    "- nn\n",
    "- optim"
   ]
  },
  {
   "cell_type": "markdown",
   "metadata": {},
   "source": [
    "## 3. nn Module\n",
    "- nn.Module는 모든 neural network의 기본 class임.\n",
    "- nn.Module에는 레이어와 출력을 반환하는 메서드 forward가 포함되어있음.\n",
    "- 미리 포함된 forward함수에 input을 인자로 forward를 계산하고 Parameters의 backward를 계산할 수 있음. 그리고 parameter.grad를 생성함."
   ]
  },
  {
   "cell_type": "markdown",
   "metadata": {},
   "source": [
    "### 3.1 nn.Module로 Neural Network생성하기"
   ]
  },
  {
   "cell_type": "code",
   "execution_count": 16,
   "metadata": {
    "ExecuteTime": {
     "end_time": "2018-08-22T06:42:08.358761Z",
     "start_time": "2018-08-22T06:42:08.341813Z"
    }
   },
   "outputs": [
    {
     "name": "stdout",
     "output_type": "stream",
     "text": [
      "NN(\n",
      "  (linear1): Linear(in_features=2, out_features=2, bias=True)\n",
      "  (linear2): Linear(in_features=2, out_features=10, bias=True)\n",
      "  (sigmoid): Sigmoid()\n",
      ")\n"
     ]
    }
   ],
   "source": [
    "class NN(nn.Module):\n",
    "    def __init__(self):\n",
    "        super(NN, self).__init__() # 부모클래스 초기화\n",
    "        self.linear1= nn.Linear(2,2) # nn.Linear부분도 다 nn.Module의 자식클래스\n",
    "        self.linear2= nn.Linear(2,10) # nn.Linear부분도 다 nn.Module의 자식클래스\n",
    "\n",
    "        self.sigmoid= nn.Sigmoid() \n",
    "        \n",
    "    def forward(self, inputs):\n",
    "        outputs= self.linear1(inputs)\n",
    "        outputs= self.linear2(outputs)\n",
    "        outputs= self.sigmoid(outputs)\n",
    "        \n",
    "        return outputs\n",
    "\n",
    "testnn= NN()\n",
    "\n",
    "print(testnn)\n",
    "inputs=torch.FloatTensor([1,2])"
   ]
  },
  {
   "cell_type": "markdown",
   "metadata": {},
   "source": [
    "### 3.2 생성한 NN에 파라미터 혹은 서브 모듈에 접근\n",
    "- module class의 parameters메서드는 순차적으로 parameter를 반환하는 generator를 생성"
   ]
  },
  {
   "cell_type": "code",
   "execution_count": 12,
   "metadata": {
    "ExecuteTime": {
     "end_time": "2018-08-22T06:40:22.614899Z",
     "start_time": "2018-08-22T06:40:22.611085Z"
    }
   },
   "outputs": [
    {
     "data": {
      "text/plain": [
       "<generator object Module.parameters at 0x10d2bb830>"
      ]
     },
     "execution_count": 12,
     "metadata": {},
     "output_type": "execute_result"
    }
   ],
   "source": [
    "testnn.parameters()"
   ]
  },
  {
   "cell_type": "code",
   "execution_count": 13,
   "metadata": {
    "ExecuteTime": {
     "end_time": "2018-08-22T06:40:23.513668Z",
     "start_time": "2018-08-22T06:40:23.507040Z"
    }
   },
   "outputs": [
    {
     "name": "stdout",
     "output_type": "stream",
     "text": [
      "Parameter containing:\n",
      "tensor([[-0.0421, -0.0520,  0.0837],\n",
      "        [-0.0023,  0.5047,  0.1797]])\n",
      "Parameter containing:\n",
      "tensor([-0.2150, -0.3487])\n",
      "Parameter containing:\n",
      "tensor([[-0.1185, -0.3050],\n",
      "        [-0.2266,  0.0339],\n",
      "        [ 0.4215,  0.3843],\n",
      "        [-0.6912,  0.4384],\n",
      "        [ 0.1975,  0.6707],\n",
      "        [ 0.4667, -0.6443],\n",
      "        [-0.6723, -0.3411],\n",
      "        [ 0.6209, -0.1178],\n",
      "        [ 0.3026, -0.3286],\n",
      "        [ 0.6938, -0.2992]])\n",
      "Parameter containing:\n",
      "tensor([ 0.5303,  0.0084, -0.3725,  0.3635, -0.3753,  0.2080, -0.2042,\n",
      "        -0.0775, -0.6798, -0.3371])\n"
     ]
    }
   ],
   "source": [
    "for param in testnn.parameters():\n",
    "    print(param)\n",
    "    param.data= torch.ones(param.size())\n",
    "    "
   ]
  },
  {
   "cell_type": "code",
   "execution_count": 10,
   "metadata": {
    "ExecuteTime": {
     "end_time": "2018-08-22T06:35:34.143483Z",
     "start_time": "2018-08-22T06:35:34.138632Z"
    }
   },
   "outputs": [
    {
     "name": "stdout",
     "output_type": "stream",
     "text": [
      "Parameter containing:\n",
      "tensor([[ 1.,  1.,  1.],\n",
      "        [ 1.,  1.,  1.]])\n",
      "Parameter containing:\n",
      "tensor([ 1.,  1.])\n"
     ]
    }
   ],
   "source": [
    "for param in testnn.parameters():\n",
    "    print(param)"
   ]
  },
  {
   "cell_type": "markdown",
   "metadata": {},
   "source": [
    "- naemd_parameters는 순차적으로 parameter name과 parameter를 반환하는 generator를 생성\n"
   ]
  },
  {
   "cell_type": "code",
   "execution_count": 5,
   "metadata": {
    "ExecuteTime": {
     "end_time": "2018-08-22T06:22:44.472313Z",
     "start_time": "2018-08-22T06:22:44.468022Z"
    }
   },
   "outputs": [
    {
     "name": "stdout",
     "output_type": "stream",
     "text": [
      "[ linear1.weight ] Parameter containing:\n",
      "tensor([[ 0.3643, -0.3121],\n",
      "        [-0.1371,  0.3319]])\n",
      "[ linear1.bias ] Parameter containing:\n",
      "tensor([-0.6657,  0.4241])\n"
     ]
    }
   ],
   "source": [
    "for name, param in testnn.named_parameters():\n",
    "    print('[',name,']', param)"
   ]
  },
  {
   "cell_type": "code",
   "execution_count": 14,
   "metadata": {
    "ExecuteTime": {
     "end_time": "2018-08-22T06:40:53.708170Z",
     "start_time": "2018-08-22T06:40:53.704971Z"
    },
    "scrolled": true
   },
   "outputs": [
    {
     "name": "stdout",
     "output_type": "stream",
     "text": [
      "Linear(in_features=3, out_features=2, bias=True)\n",
      "Linear(in_features=2, out_features=10, bias=True)\n",
      "Sigmoid()\n"
     ]
    }
   ],
   "source": [
    "for child in testnn.children():\n",
    "    print(child)"
   ]
  },
  {
   "cell_type": "markdown",
   "metadata": {},
   "source": [
    "### 3.3 forward\n",
    "- 순차적으로 neural network를 계산함."
   ]
  },
  {
   "cell_type": "code",
   "execution_count": 18,
   "metadata": {
    "ExecuteTime": {
     "end_time": "2018-08-22T06:43:16.558742Z",
     "start_time": "2018-08-22T06:43:16.551722Z"
    },
    "scrolled": true
   },
   "outputs": [
    {
     "name": "stdout",
     "output_type": "stream",
     "text": [
      "tensor([[ 0.3133, -1.1352],\n",
      "        [ 0.3773, -0.2824],\n",
      "        [-2.5667, -1.4303]])\n",
      "==================================================\n",
      "tensor([[ 0.5318,  0.3234,  0.4806,  0.4540,  0.4136,  0.5646,  0.5728,\n",
      "          0.5405,  0.4282,  0.3997],\n",
      "        [ 0.5162,  0.3149,  0.4768,  0.4536,  0.4412,  0.5684,  0.5690,\n",
      "          0.5187,  0.4586,  0.4113],\n",
      "        [ 0.6406,  0.4179,  0.5490,  0.5302,  0.2468,  0.4184,  0.5849,\n",
      "          0.6563,  0.2643,  0.3714]])\n"
     ]
    }
   ],
   "source": [
    "inputs= torch.randn(3,2) # nn.Module은 기본적으로 dim=0는 batch size로 봄.\n",
    "print(inputs)\n",
    "print(\"=\"*50)\n",
    "print(testnn(inputs))"
   ]
  },
  {
   "cell_type": "markdown",
   "metadata": {},
   "source": [
    "### 3.4 nn.Sequential()\n",
    "- 여러 nn.Module을 순차적으로 처리할 수 있는 클래스를 생성.\n",
    "- 여러 모듈을 간단하게 관리할 수 있음."
   ]
  },
  {
   "cell_type": "code",
   "execution_count": 19,
   "metadata": {
    "ExecuteTime": {
     "end_time": "2018-08-22T06:43:56.992117Z",
     "start_time": "2018-08-22T06:43:56.986975Z"
    }
   },
   "outputs": [
    {
     "name": "stdout",
     "output_type": "stream",
     "text": [
      "Sequential(\n",
      "  (0): Linear(in_features=2, out_features=2, bias=True)\n",
      "  (1): Sigmoid()\n",
      ")\n",
      "tensor([[ 0.7251,  0.6499],\n",
      "        [ 0.6593,  0.6102],\n",
      "        [ 0.5000,  0.9294]])\n"
     ]
    }
   ],
   "source": [
    "model= nn.Sequential(nn.Linear(2,2),\n",
    "                    nn.Sigmoid())\n",
    "print(model)\n",
    "print(model(inputs))"
   ]
  },
  {
   "cell_type": "markdown",
   "metadata": {},
   "source": [
    "- OrderedDict로 이름과 함께 관리할 수 있음."
   ]
  },
  {
   "cell_type": "code",
   "execution_count": 35,
   "metadata": {
    "ExecuteTime": {
     "end_time": "2018-08-11T10:38:13.110285Z",
     "start_time": "2018-08-11T10:38:13.103342Z"
    }
   },
   "outputs": [
    {
     "name": "stdout",
     "output_type": "stream",
     "text": [
      "Sequential(\n",
      "  (conv1): Conv2d(1, 20, kernel_size=(5, 5), stride=(1, 1))\n",
      "  (relu1): ReLU()\n",
      "  (conv2): Conv2d(20, 64, kernel_size=(5, 5), stride=(1, 1))\n",
      "  (relu2): ReLU()\n",
      ")\n"
     ]
    }
   ],
   "source": [
    "model = nn.Sequential(OrderedDict([\n",
    "          ('conv1', nn.Conv2d(1,20,5)),\n",
    "          ('relu1', nn.ReLU()),\n",
    "          ('conv2', nn.Conv2d(20,64,5)),\n",
    "          ('relu2', nn.ReLU())\n",
    "        ])) \n",
    "print(model)"
   ]
  }
 ],
 "metadata": {
  "kernelspec": {
   "display_name": "Python 3",
   "language": "python",
   "name": "python3"
  },
  "language_info": {
   "codemirror_mode": {
    "name": "ipython",
    "version": 3
   },
   "file_extension": ".py",
   "mimetype": "text/x-python",
   "name": "python",
   "nbconvert_exporter": "python",
   "pygments_lexer": "ipython3",
   "version": "3.6.4"
  },
  "varInspector": {
   "cols": {
    "lenName": 16,
    "lenType": 16,
    "lenVar": 40
   },
   "kernels_config": {
    "python": {
     "delete_cmd_postfix": "",
     "delete_cmd_prefix": "del ",
     "library": "var_list.py",
     "varRefreshCmd": "print(var_dic_list())"
    },
    "r": {
     "delete_cmd_postfix": ") ",
     "delete_cmd_prefix": "rm(",
     "library": "var_list.r",
     "varRefreshCmd": "cat(var_dic_list()) "
    }
   },
   "types_to_exclude": [
    "module",
    "function",
    "builtin_function_or_method",
    "instance",
    "_Feature"
   ],
   "window_display": false
  }
 },
 "nbformat": 4,
 "nbformat_minor": 2
}
