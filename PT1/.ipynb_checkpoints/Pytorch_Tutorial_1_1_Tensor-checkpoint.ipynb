{
 "cells": [
  {
   "cell_type": "markdown",
   "metadata": {},
   "source": [
    "# Reference\n",
    "- https://pytorch.org/docs/0.4.0/nn.html\n",
    "- https://pytorch.org/tutorials/\n",
    "- https://ratsgo.github.io/machine%20learning/2017/10/12/terms/\n",
    "- https://github.com/DSKSD/Pytorch_Fast_Campus_2018"
   ]
  },
  {
   "cell_type": "code",
   "execution_count": 2,
   "metadata": {
    "ExecuteTime": {
     "end_time": "2018-08-22T05:19:35.007687Z",
     "start_time": "2018-08-22T05:19:34.545811Z"
    }
   },
   "outputs": [],
   "source": [
    "import torch\n",
    "import torch.nn as nn\n",
    "from torch.autograd import Variable\n",
    "import torch.optim as optim\n",
    "import torch.nn.functional as F\n",
    "import torchvision\n",
    "import numpy as np\n",
    "from collections import OrderedDict\n",
    "\n",
    "torch.manual_seed(1)\n",
    "\n",
    "import numpy as np\n",
    "import matplotlib.pyplot as plt\n",
    "%matplotlib inline"
   ]
  },
  {
   "cell_type": "markdown",
   "metadata": {},
   "source": [
    "# What is a PyTorch?\n",
    "- Tensor와 Optimizer, Neural Net등 GPU연산에 최적화된 모듈을 이용하여 빠르게 딥러닝 모델을 구현할 수 있는 프레임워크\n",
    "Facebook이 밀고 있던 lua기반의 torch를 python버전으로 포팅함.\n",
    "\n",
    "# > Pytorch Basic\n",
    "- Tensor\n",
    "- autograd\n",
    "- nn\n",
    "- optim\n",
    "\n",
    "## 1. Tensor\n",
    "\n",
    "wiki >\n",
    " - 텐서란 선형 관계를 나타내는 기학적 대상이다.  \n",
    " (https://ko.wikipedia.org/wiki/%ED%85%90%EC%84%9C#%EC%A0%95%EC%9D%98)\n",
    " \n",
    "PyTorch > \n",
    " - Tensor는 N차원 배열이며, PyTorch는 Tensor연산을 위한 다양한 함수들을 제공함.   \n",
    " - numpy와 다르게 GPU를 활용해 수치 연산을 가속화 할 수 있음.  \n",
    " \n",
    "### 1.1 Create tensor\n",
    "- 다양한 방법으로 Tensor타입의 자료형을 만들 수 있음.\n",
    "\n",
    "#### 1.1.1 파이썬 리스트로부터 생성"
   ]
  },
  {
   "cell_type": "code",
   "execution_count": 4,
   "metadata": {
    "ExecuteTime": {
     "end_time": "2018-08-22T05:19:50.947538Z",
     "start_time": "2018-08-22T05:19:50.942983Z"
    }
   },
   "outputs": [
    {
     "name": "stdout",
     "output_type": "stream",
     "text": [
      "<vector> :\n",
      " tensor([ 1.,  2.,  3.])\n"
     ]
    }
   ],
   "source": [
    "V_data= [1., 2., 3.] \n",
    "V= torch.Tensor(V_data)\n",
    "print('<vector> :\\n' ,V)\n"
   ]
  },
  {
   "cell_type": "code",
   "execution_count": 3,
   "metadata": {
    "ExecuteTime": {
     "end_time": "2018-08-22T05:19:36.002167Z",
     "start_time": "2018-08-22T05:19:35.986373Z"
    }
   },
   "outputs": [
    {
     "name": "stdout",
     "output_type": "stream",
     "text": [
      "<vector> :\n",
      " tensor([ 1.,  2.,  3.])\n",
      "<matrix> :\n",
      " tensor([[ 1.,  2.,  3.],\n",
      "        [ 4.,  5.,  6.]])\n",
      "<3d Tensor> :\n",
      " tensor([[[ 1.,  2.],\n",
      "         [ 3.,  4.]],\n",
      "\n",
      "        [[ 4.,  5.],\n",
      "         [ 6.,  7.]]])\n",
      "<Tensor->list>:\n",
      " [[[1.0, 2.0], [3.0, 4.0]], [[4.0, 5.0], [6.0, 7.0]]]\n"
     ]
    }
   ],
   "source": [
    "V_data= [1., 2., 3.] \n",
    "V= torch.Tensor(V_data)\n",
    "print('<vector> :\\n' ,V)\n",
    "\n",
    "M_data= [[1.,2.,3.],[4.,5.,6.]] # 매트릭스\n",
    "M= torch.Tensor(M_data)\n",
    "print('<matrix> :\\n', M)\n",
    "\n",
    "T_data= [[[1.,2.],[3.,4.]],[[4.,5.],[6.,7.]]]\n",
    "T= torch.Tensor(T_data)\n",
    "print('<3d Tensor> :\\n', T)\n",
    "\n",
    "T_data= T.tolist()\n",
    "print('<Tensor->list>:\\n', T_data)"
   ]
  },
  {
   "cell_type": "markdown",
   "metadata": {},
   "source": [
    "#### 1.1.2  numpy ndarray객체로부터 Tensor생성"
   ]
  },
  {
   "cell_type": "code",
   "execution_count": 9,
   "metadata": {
    "ExecuteTime": {
     "end_time": "2018-08-22T05:22:48.015950Z",
     "start_time": "2018-08-22T05:22:48.000930Z"
    }
   },
   "outputs": [
    {
     "name": "stdout",
     "output_type": "stream",
     "text": [
      "<vector> :\n",
      " tensor([ 1.,  2.,  3.])\n",
      "<matrix> :\n",
      " tensor([[ 1.,  2.,  3.],\n",
      "        [ 4.,  5.,  6.]])\n",
      "<3d Tensor> :\n",
      " tensor([[[ 1.,  2.],\n",
      "         [ 3.,  4.]],\n",
      "\n",
      "        [[ 4.,  5.],\n",
      "         [ 6.,  7.]]])\n",
      "<Tensor->numpy ndarray>:\n",
      " [[[1. 2.]\n",
      "  [3. 4.]]\n",
      "\n",
      " [[4. 5.]\n",
      "  [6. 7.]]]\n"
     ]
    }
   ],
   "source": [
    "V_data= np.array([1, 2, 3]) \n",
    "V= torch.Tensor(V_data)\n",
    "print('<vector> :\\n' ,V)\n",
    "\n",
    "M_data= np.array([[1.,2.,3.],[4.,5.,6.]]) # 매트릭스\n",
    "M= torch.Tensor(M_data)\n",
    "print('<matrix> :\\n', M)\n",
    "\n",
    "T_data= np.array([[[1.,2.],[3.,4.]],[[4.,5.],[6.,7.]]])\n",
    "T= torch.Tensor(T_data)\n",
    "print('<3d Tensor> :\\n', T)\n",
    "\n",
    "T_data= T.numpy()\n",
    "print('<Tensor->numpy ndarray>:\\n', T_data)"
   ]
  },
  {
   "cell_type": "markdown",
   "metadata": {},
   "source": [
    "#### 1.1.3 기타 다른 생성 방법들"
   ]
  },
  {
   "cell_type": "code",
   "execution_count": 7,
   "metadata": {
    "ExecuteTime": {
     "end_time": "2018-08-22T05:22:08.745331Z",
     "start_time": "2018-08-22T05:22:08.734048Z"
    }
   },
   "outputs": [
    {
     "name": "stdout",
     "output_type": "stream",
     "text": [
      "<zeros tensor> :\n",
      " tensor([[ 0.,  0.,  0.],\n",
      "        [ 0.,  0.,  0.]])\n",
      "<ones tensor> :\n",
      " tensor([[ 1.,  1.,  1.],\n",
      "        [ 1.,  1.,  1.]])\n",
      "<sample Normal distribution> :\n",
      " tensor([[ 0.6614,  0.2669,  0.0617,  0.6213],\n",
      "        [-0.4519, -0.1661, -1.5228,  0.3817],\n",
      "        [-1.0276, -0.5631, -0.8923, -0.0583]])\n",
      "<permutation of integers from 0 to n-1(LongTenosr)> :\n",
      " tensor([ 3,  1,  0,  2,  4])\n"
     ]
    }
   ],
   "source": [
    "x= torch.zeros(2,3)\n",
    "print('<zeros tensor> :\\n', x)\n",
    "\n",
    "x= torch.ones(2,3)\n",
    "print('<ones tensor> :\\n', x)\n",
    "\n",
    "x= torch.randn(3,4) \n",
    "print('<sample Normal distribution> :\\n', x)\n",
    "\n",
    "x= torch.randperm(5)\n",
    "print('<permutation of integers from 0 to n-1(LongTenosr)> :\\n', x)"
   ]
  },
  {
   "cell_type": "markdown",
   "metadata": {},
   "source": [
    "### 1.2. Indexing, Slicing, Joining, Mutating Ops\n",
    "- PyTorch의 Tensor 자료형도 numpy의 ndarray와 같이 indexing, slicing, joining이 가능함.  \n",
    "\n",
    "#### 1.2.1. indexing"
   ]
  },
  {
   "cell_type": "code",
   "execution_count": 12,
   "metadata": {
    "ExecuteTime": {
     "end_time": "2018-08-22T05:23:33.884817Z",
     "start_time": "2018-08-22T05:23:33.880794Z"
    }
   },
   "outputs": [
    {
     "name": "stdout",
     "output_type": "stream",
     "text": [
      "torch.Size([3, 4, 5])\n",
      "torch.Size([4, 5])\n"
     ]
    }
   ],
   "source": [
    "x= torch.randn(3,4,5)\n",
    "print(x.size())\n",
    "print(x[0,:,:].size())"
   ]
  },
  {
   "cell_type": "markdown",
   "metadata": {},
   "source": [
    "#### 1.2.2 select_index\n",
    "- LongTensor로 Tensor에 행 또는 열에 해당하는 값을 가져올 수 있음."
   ]
  },
  {
   "cell_type": "code",
   "execution_count": 16,
   "metadata": {
    "ExecuteTime": {
     "end_time": "2018-08-22T05:24:39.175290Z",
     "start_time": "2018-08-22T05:24:39.164024Z"
    }
   },
   "outputs": [
    {
     "name": "stdout",
     "output_type": "stream",
     "text": [
      "x.shape : torch.Size([3, 4])\n",
      "x : tensor([[-1.6428,  0.9803, -0.0421, -0.8206],\n",
      "        [ 0.3133, -1.1352,  0.3773, -0.2824],\n",
      "        [-2.5667, -1.4303,  0.5009,  0.5438]])\n",
      "indices: tensor([ 0,  2])\n",
      "\n",
      "select 0 dim:  tensor([[-1.6428,  0.9803, -0.0421, -0.8206],\n",
      "        [-2.5667, -1.4303,  0.5009,  0.5438]])\n",
      "select 1 dim:  tensor([[-1.6428, -0.0421],\n",
      "        [ 0.3133,  0.3773],\n",
      "        [-2.5667,  0.5009]])\n"
     ]
    }
   ],
   "source": [
    "x= torch.randn(3,4)\n",
    "print('x.shape :',x.shape)\n",
    "print('x :',x)\n",
    "indices= torch.LongTensor([0,2])\n",
    "print('indices:', indices)\n",
    "print('')\n",
    "print('select 0 dim: ', torch.index_select(x, 0, indices))\n",
    "print('select 1 dim: ', torch.index_select(x, 1, indices))"
   ]
  },
  {
   "cell_type": "markdown",
   "metadata": {},
   "source": [
    "#### 1.2.3 torch.masked_select\n",
    "- torch.Tenosr타입의 ge메소드는 인자값보다 큰 경우를 1 작은 경우를 0인 동일한 크기의 Tensor를 생성함.\n",
    "- masked_select는 마스킹된 값을 Tensor로 반환함."
   ]
  },
  {
   "cell_type": "code",
   "execution_count": 23,
   "metadata": {
    "ExecuteTime": {
     "end_time": "2018-08-22T05:27:42.413481Z",
     "start_time": "2018-08-22T05:27:42.404905Z"
    }
   },
   "outputs": [
    {
     "name": "stdout",
     "output_type": "stream",
     "text": [
      "tensor : tensor([[-0.4057,  1.1341, -1.1115,  0.3501],\n",
      "        [-0.7703, -0.1473,  0.6272,  1.0935],\n",
      "        [ 0.0939,  1.2381, -1.3459,  0.5119]])\n",
      "ge method tensor([[ 0,  1,  0,  0],\n",
      "        [ 0,  0,  1,  1],\n",
      "        [ 0,  1,  0,  1]], dtype=torch.uint8)\n",
      "tensor([ 1.1341,  0.6272,  1.0935,  1.2381,  0.5119])\n"
     ]
    }
   ],
   "source": [
    "x= torch.randn(3,4)\n",
    "print('tensor :',x)\n",
    "\n",
    "mask= x.ge(0.5)\n",
    "print('ge method', mask)\n",
    "\n",
    "print(torch.masked_select(x,mask))"
   ]
  },
  {
   "cell_type": "markdown",
   "metadata": {},
   "source": [
    "#### 1.2.4 torch.cat\n",
    "- Tensor들을 concatenate함"
   ]
  },
  {
   "cell_type": "code",
   "execution_count": 24,
   "metadata": {
    "ExecuteTime": {
     "end_time": "2018-08-22T05:28:04.512547Z",
     "start_time": "2018-08-22T05:28:04.508510Z"
    },
    "scrolled": true
   },
   "outputs": [
    {
     "name": "stdout",
     "output_type": "stream",
     "text": [
      "torch.Size([5, 5])\n"
     ]
    }
   ],
   "source": [
    "x_1= torch.rand(2,5)\n",
    "y_1= torch.rand(3,5)\n",
    "z_1= torch.cat([x_1, y_1],0)\n",
    "print(z_1.size())"
   ]
  },
  {
   "cell_type": "markdown",
   "metadata": {},
   "source": [
    "#### 1.2.5 torch.view\n",
    "- Tensor를 reshape함."
   ]
  },
  {
   "cell_type": "code",
   "execution_count": 25,
   "metadata": {
    "ExecuteTime": {
     "end_time": "2018-08-22T05:28:29.560098Z",
     "start_time": "2018-08-22T05:28:29.556524Z"
    }
   },
   "outputs": [
    {
     "name": "stdout",
     "output_type": "stream",
     "text": [
      "torch.Size([2, 3, 4])\n",
      "torch.Size([2, 12])\n"
     ]
    }
   ],
   "source": [
    "x= torch.randn(2,3,4)\n",
    "print(x.size())\n",
    "print(x.view(2,-1).size())"
   ]
  },
  {
   "cell_type": "code",
   "execution_count": 27,
   "metadata": {
    "ExecuteTime": {
     "end_time": "2018-08-22T05:28:56.476954Z",
     "start_time": "2018-08-22T05:28:56.473810Z"
    }
   },
   "outputs": [
    {
     "data": {
      "text/plain": [
       "torch.Size([2, 4, 3])"
      ]
     },
     "execution_count": 27,
     "metadata": {},
     "output_type": "execute_result"
    }
   ],
   "source": [
    "x.view(2,4,3).size()"
   ]
  },
  {
   "cell_type": "markdown",
   "metadata": {},
   "source": [
    "#### 1.2.6 torch.squeeze\n",
    "- Tensor에서 차원을 제거함. [[1]]->[1]"
   ]
  },
  {
   "cell_type": "code",
   "execution_count": 35,
   "metadata": {
    "ExecuteTime": {
     "end_time": "2018-08-22T05:31:13.245552Z",
     "start_time": "2018-08-22T05:31:13.241629Z"
    }
   },
   "outputs": [
    {
     "name": "stdout",
     "output_type": "stream",
     "text": [
      "torch.Size([3, 1, 3])\n",
      "torch.Size([3, 3])\n"
     ]
    }
   ],
   "source": [
    "x= torch.ones(3,1,3)\n",
    "print(x.size())\n",
    "print(x.squeeze(1).size())"
   ]
  },
  {
   "cell_type": "markdown",
   "metadata": {},
   "source": [
    "#### 1.2.7 torch.unsqueeze\n",
    "- Tensor에서 차원을 추가함. [1]->[[1]]"
   ]
  },
  {
   "cell_type": "code",
   "execution_count": 36,
   "metadata": {
    "ExecuteTime": {
     "end_time": "2018-08-22T05:31:16.723057Z",
     "start_time": "2018-08-22T05:31:16.719784Z"
    }
   },
   "outputs": [
    {
     "name": "stdout",
     "output_type": "stream",
     "text": [
      "torch.Size([3, 1, 3])\n",
      "torch.Size([3, 1, 1, 3])\n"
     ]
    }
   ],
   "source": [
    "print(x.size())\n",
    "print(x.unsqueeze(1).size())"
   ]
  },
  {
   "cell_type": "markdown",
   "metadata": {},
   "source": [
    "### 1.3 Math Operation\n",
    "- Tensor타입을 연산할 수 있음.\n",
    "\n",
    "#### 1.3.1 add\n",
    "- 텐서의 각 scalar값을 각 element별로 더해줌"
   ]
  },
  {
   "cell_type": "code",
   "execution_count": 37,
   "metadata": {
    "ExecuteTime": {
     "end_time": "2018-08-22T05:32:24.751293Z",
     "start_time": "2018-08-22T05:32:24.744406Z"
    }
   },
   "outputs": [
    {
     "name": "stdout",
     "output_type": "stream",
     "text": [
      "tensor([ 4.,  6.,  8.])\n",
      "tensor([ 4.,  6.,  8.])\n"
     ]
    }
   ],
   "source": [
    "x= torch.Tensor([1,2,3])\n",
    "y= torch.Tensor([3,4,5])\n",
    "z=x+y\n",
    "print(z)\n",
    "print(torch.add(x,y))"
   ]
  },
  {
   "cell_type": "markdown",
   "metadata": {},
   "source": [
    "#### 1.3.2 sum\n",
    "- Tensor의 모든 scalar값을 더해준다."
   ]
  },
  {
   "cell_type": "code",
   "execution_count": 38,
   "metadata": {
    "ExecuteTime": {
     "end_time": "2018-08-22T05:32:36.899727Z",
     "start_time": "2018-08-22T05:32:36.893685Z"
    }
   },
   "outputs": [
    {
     "name": "stdout",
     "output_type": "stream",
     "text": [
      "tensor(6.)\n",
      "tensor(6.)\n"
     ]
    }
   ],
   "source": [
    "x= torch.Tensor([1.,2.,3.])\n",
    "print(x.sum())\n",
    "print(sum(x))"
   ]
  },
  {
   "cell_type": "markdown",
   "metadata": {},
   "source": [
    "#### 1.3.3 dot product \n",
    "- Tensor들끼리 dot product를 한다."
   ]
  },
  {
   "cell_type": "code",
   "execution_count": 40,
   "metadata": {
    "ExecuteTime": {
     "end_time": "2018-08-22T05:32:56.603854Z",
     "start_time": "2018-08-22T05:32:56.597762Z"
    }
   },
   "outputs": [
    {
     "name": "stdout",
     "output_type": "stream",
     "text": [
      "tensor(14.)\n",
      "tensor(14.)\n"
     ]
    }
   ],
   "source": [
    "x= torch.Tensor([1.,2.,3.])\n",
    "y= torch.Tensor([1.,2.,3.])\n",
    "z= x.dot(y)\n",
    "print(z)\n",
    "print(torch.dot(x,y))"
   ]
  },
  {
   "cell_type": "markdown",
   "metadata": {},
   "source": [
    "#### 1.3.4 mul\n",
    "- Tensor들의 각 scalara값들을 element마다 곱해줌."
   ]
  },
  {
   "cell_type": "code",
   "execution_count": 41,
   "metadata": {
    "ExecuteTime": {
     "end_time": "2018-08-22T05:32:59.003117Z",
     "start_time": "2018-08-22T05:32:58.998327Z"
    }
   },
   "outputs": [
    {
     "name": "stdout",
     "output_type": "stream",
     "text": [
      "tensor([  3.,   8.,  15.])\n"
     ]
    }
   ],
   "source": [
    "x= torch.Tensor([1,2,3])\n",
    "y= torch.Tensor([3,4,5])\n",
    "z= x.mul(y)\n",
    "print(z)"
   ]
  },
  {
   "cell_type": "markdown",
   "metadata": {},
   "source": [
    "#### 1.3.5 mm : matrix multiplication\n",
    "- matrix multiplication"
   ]
  },
  {
   "cell_type": "code",
   "execution_count": 42,
   "metadata": {
    "ExecuteTime": {
     "end_time": "2018-08-22T05:33:07.499080Z",
     "start_time": "2018-08-22T05:33:07.493227Z"
    }
   },
   "outputs": [
    {
     "name": "stdout",
     "output_type": "stream",
     "text": [
      "tensor([[ 2.2664,  0.4295],\n",
      "        [ 0.2962,  2.1845]])\n",
      "torch.Size([2, 2])\n"
     ]
    }
   ],
   "source": [
    "x= torch.randn(2,3)\n",
    "y= torch.randn(3,2)\n",
    "z= x.mm(y)\n",
    "print(z)\n",
    "print(z.size())"
   ]
  },
  {
   "cell_type": "markdown",
   "metadata": {},
   "source": [
    "#### 1.3.6 max \n",
    "- scalar 값 중에서 max값을 구해준다."
   ]
  },
  {
   "cell_type": "code",
   "execution_count": 43,
   "metadata": {
    "ExecuteTime": {
     "end_time": "2018-08-22T05:33:25.342009Z",
     "start_time": "2018-08-22T05:33:25.335073Z"
    },
    "scrolled": false
   },
   "outputs": [
    {
     "name": "stdout",
     "output_type": "stream",
     "text": [
      "tensor(5.)\n",
      "(tensor([ 5.,  4.]), tensor([ 2,  1]))\n",
      "(tensor([ 2.,  4.,  5.]), tensor([ 1,  1,  0]))\n"
     ]
    }
   ],
   "source": [
    "x= torch.Tensor([[1,2], [3,4], [5,1]])\n",
    "print(x.max()) # 전체 기준 max\n",
    "print(x.max(0)) # 차원을 기준해서 max와 그에 해당하는 index\n",
    "print(x.max(1))"
   ]
  }
 ],
 "metadata": {
  "kernelspec": {
   "display_name": "Python 3",
   "language": "python",
   "name": "python3"
  },
  "language_info": {
   "codemirror_mode": {
    "name": "ipython",
    "version": 3
   },
   "file_extension": ".py",
   "mimetype": "text/x-python",
   "name": "python",
   "nbconvert_exporter": "python",
   "pygments_lexer": "ipython3",
   "version": "3.6.4"
  },
  "varInspector": {
   "cols": {
    "lenName": 16,
    "lenType": 16,
    "lenVar": 40
   },
   "kernels_config": {
    "python": {
     "delete_cmd_postfix": "",
     "delete_cmd_prefix": "del ",
     "library": "var_list.py",
     "varRefreshCmd": "print(var_dic_list())"
    },
    "r": {
     "delete_cmd_postfix": ") ",
     "delete_cmd_prefix": "rm(",
     "library": "var_list.r",
     "varRefreshCmd": "cat(var_dic_list()) "
    }
   },
   "types_to_exclude": [
    "module",
    "function",
    "builtin_function_or_method",
    "instance",
    "_Feature"
   ],
   "window_display": false
  }
 },
 "nbformat": 4,
 "nbformat_minor": 2
}
