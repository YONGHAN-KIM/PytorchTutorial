{
 "cells": [
  {
   "cell_type": "code",
   "execution_count": 1,
   "metadata": {
    "ExecuteTime": {
     "end_time": "2018-07-22T14:03:21.415285Z",
     "start_time": "2018-07-22T14:03:21.129413Z"
    }
   },
   "outputs": [],
   "source": [
    "import torch\n",
    "import torch.nn as nn\n",
    "from torch.autograd import Variable\n",
    "import torch.optim as optim\n",
    "import torch.nn.functional as F\n",
    "import torch.utils.data as torchdata\n",
    "import numpy as np\n",
    "torch.manual_seed(1)\n",
    "\n",
    "import matplotlib.pyplot as plt\n",
    "from matplotlib.colors import ListedColormap\n",
    "%matplotlib inline"
   ]
  },
  {
   "cell_type": "markdown",
   "metadata": {},
   "source": [
    "# What is a Weight decay?\n",
    "- 딥러닝에서 사용하는 Regularization 기법 중 하나임.\n",
    "- weight가 너무 커지는 것을 방지하여 다양한 feature를 고려하게 해줌."
   ]
  },
  {
   "cell_type": "markdown",
   "metadata": {},
   "source": [
    "# 1. 데이터 생성"
   ]
  },
  {
   "cell_type": "code",
   "execution_count": 2,
   "metadata": {
    "ExecuteTime": {
     "end_time": "2018-07-22T14:03:21.929979Z",
     "start_time": "2018-07-22T14:03:21.702655Z"
    }
   },
   "outputs": [
    {
     "name": "stdout",
     "output_type": "stream",
     "text": [
      "<x shape> : torch.Size([50, 2])\n",
      "<y shape> : torch.Size([50, 1])\n"
     ]
    },
    {
     "data": {
      "image/png": "[encoded data removed]",
      "text/plain": [
       "<Figure size 432x288 with 1 Axes>"
      ]
     },
     "metadata": {},
     "output_type": "display_data"
    }
   ],
   "source": [
    "NUM_DATA= 50\n",
    "\n",
    "x1= torch.linspace(0,5, NUM_DATA) + torch.randn(NUM_DATA)\n",
    "x2 = torch.cat([torch.zeros(NUM_DATA//2)+torch.abs(torch.randn(NUM_DATA//2)),torch.ones(NUM_DATA//2)-torch.abs(torch.randn(NUM_DATA//2))])\n",
    "x= torch.cat([x1.unsqueeze(1), x2.unsqueeze(1)],1)\n",
    "print('<x shape> :', x.shape)\n",
    "\n",
    "y= torch.cat([torch.zeros(NUM_DATA//2), torch.ones(NUM_DATA//2)])\n",
    "y= y.unsqueeze(1)\n",
    "print('<y shape> :', y.shape)\n",
    "\n",
    "fig, ax = plt.subplots()\n",
    "ax.plot(x[:,0].data.numpy()[:NUM_DATA//2],x[:,1].data.numpy()[:NUM_DATA//2],'o',label='negative')\n",
    "ax.plot(x[:,0].data.numpy()[NUM_DATA//2:],x[:,1].data.numpy()[NUM_DATA//2:],'ro',label='positive')\n",
    "ax.legend()\n",
    "plt.show()"
   ]
  },
  {
   "cell_type": "markdown",
   "metadata": {},
   "source": [
    "# 1.1 data loader 만들어보기"
   ]
  },
  {
   "cell_type": "code",
   "execution_count": 3,
   "metadata": {
    "ExecuteTime": {
     "end_time": "2018-07-22T14:03:22.096460Z",
     "start_time": "2018-07-22T14:03:22.086291Z"
    }
   },
   "outputs": [],
   "source": [
    "class CustomDataset(torchdata.Dataset):\n",
    "    def __init__(self, x, y):\n",
    "        self.x= x\n",
    "        self.y= y\n",
    "        \n",
    "    def __getitem__(self, index):\n",
    "        return self.x[index], self.y[index]\n",
    "    \n",
    "    def __len__(self):\n",
    "        return len(self.x)\n",
    "    \n",
    "custom_dataset= CustomDataset(x, y)\n",
    "\n",
    "custom_loader= torch.utils.data.DataLoader(dataset=custom_dataset, \n",
    "                                           batch_size=10,\n",
    "                                           shuffle=True,\n",
    "                                           )"
   ]
  },
  {
   "cell_type": "markdown",
   "metadata": {},
   "source": [
    "# 2. 모델"
   ]
  },
  {
   "cell_type": "code",
   "execution_count": 4,
   "metadata": {
    "ExecuteTime": {
     "end_time": "2018-07-22T14:03:22.503495Z",
     "start_time": "2018-07-22T14:03:22.495980Z"
    }
   },
   "outputs": [],
   "source": [
    "class NN(nn.Module):\n",
    "    def __init__(self,input_size, hidden_size, output_size):\n",
    "        super(NN,self).__init__()\n",
    "        self.l1 = nn.Linear(input_size,hidden_size)\n",
    "        self.l2 = nn.Linear(hidden_size,output_size)\n",
    "    \n",
    "    def forward(self,inputs):\n",
    "        outputs = F.relu(self.l1(inputs))\n",
    "        return F.sigmoid(self.l2(outputs))"
   ]
  },
  {
   "cell_type": "code",
   "execution_count": 17,
   "metadata": {
    "ExecuteTime": {
     "end_time": "2018-07-22T14:09:14.288016Z",
     "start_time": "2018-07-22T14:09:14.275813Z"
    }
   },
   "outputs": [],
   "source": [
    "def train_nn(x,y,model,loss_function, optimizer,max_try=20000):\n",
    "    \"\"\"\n",
    "    max_try만큼 epoch을 돌거나\n",
    "    loss가 0.1보다 작아지면 학습이 끝나는 메소드\n",
    "    \"\"\"\n",
    "    epoch = 0\n",
    "    loss = Variable(torch.Tensor([1.]))\n",
    "    while loss.data[0]>0.1 and epoch<=max_try:\n",
    "        model.zero_grad()\n",
    "        pred = model(x)\n",
    "        loss = loss_function(pred,y)\n",
    "        loss.backward()\n",
    "        optimizer.step()\n",
    "        epoch+=1\n",
    "    print(\"done with %d epochs, loss : %.3f\" % (epoch,loss.data[0]))\n",
    "    \n",
    "    return model"
   ]
  },
  {
   "cell_type": "code",
   "execution_count": 6,
   "metadata": {
    "ExecuteTime": {
     "end_time": "2018-07-22T14:03:22.934809Z",
     "start_time": "2018-07-22T14:03:22.901966Z"
    }
   },
   "outputs": [],
   "source": [
    "def plot_decision_region(x,y,model):\n",
    "    X_p = x.data.numpy()\n",
    "    y_p = y.data.numpy().reshape(NUM_DATA)\n",
    "    markers = ('x', 's')\n",
    "    colors = ('blue', 'red')\n",
    "    cmap = ListedColormap(colors[:len(np.unique(y_p))])\n",
    "\n",
    "    # plot the decision surface\n",
    "    x1_min, x1_max = X_p[:, 0].min() - 1, X_p[:, 0].max() + 1\n",
    "    x2_min, x2_max = X_p[:, 1].min() - 1, X_p[:, 1].max() + 1\n",
    "    xx1, xx2 = np.meshgrid(np.arange(x1_min, x1_max, 0.02),\n",
    "                           np.arange(x2_min, x2_max, 0.02))\n",
    "\n",
    "    X_pp = Variable(torch.cat([torch.Tensor(xx1).view(-1,1),torch.Tensor(xx2).view(-1,1)],1))\n",
    "    Z = torch.round(model(X_pp))\n",
    "    Z = Z.float().data.numpy()\n",
    "    Z = Z.reshape(xx1.shape)\n",
    "    plt.contourf(xx1, xx2, Z, alpha=0.4, cmap=cmap)\n",
    "    plt.xlim(xx1.min(), xx1.max())\n",
    "    plt.ylim(xx2.min(), xx2.max())\n",
    "\n",
    "    for idx, cl in enumerate(np.unique(y_p)):\n",
    "        plt.scatter(x=X_p[y_p == cl, 0], \n",
    "                    y=X_p[y_p == cl, 1],\n",
    "                    alpha=0.6, \n",
    "                    c=cmap(idx),\n",
    "                    edgecolor='black',\n",
    "                    marker=markers[idx], \n",
    "                    label=cl)"
   ]
  },
  {
   "cell_type": "markdown",
   "metadata": {},
   "source": [
    "# 3 테스트\n",
    "### 3.1 hidden node 3"
   ]
  },
  {
   "cell_type": "code",
   "execution_count": 11,
   "metadata": {
    "ExecuteTime": {
     "end_time": "2018-07-22T14:04:05.198937Z",
     "start_time": "2018-07-22T14:04:01.330698Z"
    }
   },
   "outputs": [
    {
     "name": "stderr",
     "output_type": "stream",
     "text": [
      "/Users/a408109/anaconda3/lib/python3.6/site-packages/ipykernel_launcher.py:8: UserWarning: invalid index of a 0-dim tensor. This will be an error in PyTorch 0.5. Use tensor.item() to convert a 0-dim tensor to a Python number\n",
      "  \n"
     ]
    },
    {
     "name": "stdout",
     "output_type": "stream",
     "text": [
      "done with 20001 epochs, loss : 0.290\n"
     ]
    },
    {
     "name": "stderr",
     "output_type": "stream",
     "text": [
      "/Users/a408109/anaconda3/lib/python3.6/site-packages/ipykernel_launcher.py:15: UserWarning: invalid index of a 0-dim tensor. This will be an error in PyTorch 0.5. Use tensor.item() to convert a 0-dim tensor to a Python number\n",
      "  from ipykernel import kernelapp as app\n"
     ]
    },
    {
     "data": {
      "image/png": "[encoded data removed]",
      "text/plain": [
       "<Figure size 432x288 with 1 Axes>"
      ]
     },
     "metadata": {},
     "output_type": "display_data"
    }
   ],
   "source": [
    "INPUT_SIZE= 2\n",
    "HIDDEN_SIZE=3\n",
    "OUTPUT_SIZE=1\n",
    "LR=0.05\n",
    "\n",
    "model = NN(INPUT_SIZE, HIDDEN_SIZE, OUTPUT_SIZE)\n",
    "loss_function =nn.BCELoss()\n",
    "optimizer = optim.SGD(model.parameters(),lr=LR)\n",
    "\n",
    "model = train_nn(x, y,model,loss_function, optimizer)\n",
    "plot_decision_region(x,y,model)\n"
   ]
  },
  {
   "cell_type": "markdown",
   "metadata": {},
   "source": [
    "### 3.2 hidden node : 20 "
   ]
  },
  {
   "cell_type": "code",
   "execution_count": 12,
   "metadata": {
    "ExecuteTime": {
     "end_time": "2018-07-22T14:04:13.706305Z",
     "start_time": "2018-07-22T14:04:09.627087Z"
    },
    "scrolled": false
   },
   "outputs": [
    {
     "name": "stderr",
     "output_type": "stream",
     "text": [
      "/Users/a408109/anaconda3/lib/python3.6/site-packages/ipykernel_launcher.py:8: UserWarning: invalid index of a 0-dim tensor. This will be an error in PyTorch 0.5. Use tensor.item() to convert a 0-dim tensor to a Python number\n",
      "  \n"
     ]
    },
    {
     "name": "stdout",
     "output_type": "stream",
     "text": [
      "done with 20001 epochs, loss : 0.140\n"
     ]
    },
    {
     "name": "stderr",
     "output_type": "stream",
     "text": [
      "/Users/a408109/anaconda3/lib/python3.6/site-packages/ipykernel_launcher.py:15: UserWarning: invalid index of a 0-dim tensor. This will be an error in PyTorch 0.5. Use tensor.item() to convert a 0-dim tensor to a Python number\n",
      "  from ipykernel import kernelapp as app\n"
     ]
    },
    {
     "data": {
      "image/png": "[encoded data removed]",
      "text/plain": [
       "<Figure size 432x288 with 1 Axes>"
      ]
     },
     "metadata": {},
     "output_type": "display_data"
    }
   ],
   "source": [
    "INPUT_SIZE= 2\n",
    "HIDDEN_SIZE=20\n",
    "OUTPUT_SIZE=1\n",
    "LR=0.05\n",
    "\n",
    "model = NN(INPUT_SIZE, HIDDEN_SIZE, OUTPUT_SIZE)\n",
    "loss_function =nn.BCELoss()\n",
    "optimizer = optim.SGD(model.parameters(),lr=LR)\n",
    "\n",
    "model = train_nn(x, y,model,loss_function, optimizer)\n",
    "plot_decision_region(x,y,model)\n"
   ]
  },
  {
   "cell_type": "markdown",
   "metadata": {},
   "source": [
    "### 3.3 Wight Decay (L2 norm)\n",
    "- Lambda 0.001"
   ]
  },
  {
   "cell_type": "code",
   "execution_count": 14,
   "metadata": {
    "ExecuteTime": {
     "end_time": "2018-07-22T14:07:16.371638Z",
     "start_time": "2018-07-22T14:07:12.177701Z"
    }
   },
   "outputs": [
    {
     "name": "stderr",
     "output_type": "stream",
     "text": [
      "/Users/a408109/anaconda3/lib/python3.6/site-packages/ipykernel_launcher.py:8: UserWarning: invalid index of a 0-dim tensor. This will be an error in PyTorch 0.5. Use tensor.item() to convert a 0-dim tensor to a Python number\n",
      "  \n"
     ]
    },
    {
     "name": "stdout",
     "output_type": "stream",
     "text": [
      "done with 20001 epochs, loss : 0.213\n"
     ]
    },
    {
     "name": "stderr",
     "output_type": "stream",
     "text": [
      "/Users/a408109/anaconda3/lib/python3.6/site-packages/ipykernel_launcher.py:15: UserWarning: invalid index of a 0-dim tensor. This will be an error in PyTorch 0.5. Use tensor.item() to convert a 0-dim tensor to a Python number\n",
      "  from ipykernel import kernelapp as app\n"
     ]
    },
    {
     "data": {
      "image/png": "[encoded data removed]",
      "text/plain": [
       "<Figure size 432x288 with 1 Axes>"
      ]
     },
     "metadata": {},
     "output_type": "display_data"
    }
   ],
   "source": [
    "INPUT_SIZE= 2\n",
    "HIDDEN_SIZE=20\n",
    "OUTPUT_SIZE=1\n",
    "LR=0.05\n",
    "LAMBDA=0.001\n",
    "\n",
    "model = NN(INPUT_SIZE, HIDDEN_SIZE, OUTPUT_SIZE)\n",
    "loss_function =nn.BCELoss()\n",
    "optimizer = optim.SGD(model.parameters(),lr=LR, weight_decay=LAMBDA) # l2 norm\n",
    "\n",
    "model = train_nn(x, y,model,loss_function, optimizer)\n",
    "plot_decision_region(x,y,model)\n"
   ]
  },
  {
   "cell_type": "markdown",
   "metadata": {},
   "source": [
    "### 3.4 Wight Decay (L2 norm)\n",
    "- Lambda 0.01"
   ]
  },
  {
   "cell_type": "code",
   "execution_count": 15,
   "metadata": {
    "ExecuteTime": {
     "end_time": "2018-07-22T14:07:57.813246Z",
     "start_time": "2018-07-22T14:07:53.586269Z"
    }
   },
   "outputs": [
    {
     "name": "stderr",
     "output_type": "stream",
     "text": [
      "/Users/a408109/anaconda3/lib/python3.6/site-packages/ipykernel_launcher.py:8: UserWarning: invalid index of a 0-dim tensor. This will be an error in PyTorch 0.5. Use tensor.item() to convert a 0-dim tensor to a Python number\n",
      "  \n"
     ]
    },
    {
     "name": "stdout",
     "output_type": "stream",
     "text": [
      "done with 20001 epochs, loss : 0.292\n"
     ]
    },
    {
     "name": "stderr",
     "output_type": "stream",
     "text": [
      "/Users/a408109/anaconda3/lib/python3.6/site-packages/ipykernel_launcher.py:15: UserWarning: invalid index of a 0-dim tensor. This will be an error in PyTorch 0.5. Use tensor.item() to convert a 0-dim tensor to a Python number\n",
      "  from ipykernel import kernelapp as app\n"
     ]
    },
    {
     "data": {
      "image/png": "[encoded data removed]",
      "text/plain": [
       "<Figure size 432x288 with 1 Axes>"
      ]
     },
     "metadata": {},
     "output_type": "display_data"
    }
   ],
   "source": [
    "INPUT_SIZE= 2\n",
    "HIDDEN_SIZE=20\n",
    "OUTPUT_SIZE=1\n",
    "LR=0.05\n",
    "LAMBDA=0.01\n",
    "\n",
    "model = NN(INPUT_SIZE, HIDDEN_SIZE, OUTPUT_SIZE)\n",
    "loss_function =nn.BCELoss()\n",
    "optimizer = optim.SGD(model.parameters(),lr=LR, weight_decay=LAMBDA) # l2 norm\n",
    "\n",
    "model = train_nn(x, y,model,loss_function, optimizer)\n",
    "plot_decision_region(x,y,model)\n"
   ]
  },
  {
   "cell_type": "markdown",
   "metadata": {},
   "source": [
    "### Suggested Readings\n",
    "- http://cs231n.github.io/neural-networks-1/"
   ]
  }
 ],
 "metadata": {
  "kernelspec": {
   "display_name": "Python 3",
   "language": "python",
   "name": "python3"
  },
  "language_info": {
   "codemirror_mode": {
    "name": "ipython",
    "version": 3
   },
   "file_extension": ".py",
   "mimetype": "text/x-python",
   "name": "python",
   "nbconvert_exporter": "python",
   "pygments_lexer": "ipython3",
   "version": "3.6.4"
  },
  "varInspector": {
   "cols": {
    "lenName": 16,
    "lenType": 16,
    "lenVar": 40
   },
   "kernels_config": {
    "python": {
     "delete_cmd_postfix": "",
     "delete_cmd_prefix": "del ",
     "library": "var_list.py",
     "varRefreshCmd": "print(var_dic_list())"
    },
    "r": {
     "delete_cmd_postfix": ") ",
     "delete_cmd_prefix": "rm(",
     "library": "var_list.r",
     "varRefreshCmd": "cat(var_dic_list()) "
    }
   },
   "types_to_exclude": [
    "module",
    "function",
    "builtin_function_or_method",
    "instance",
    "_Feature"
   ],
   "window_display": false
  }
 },
 "nbformat": 4,
 "nbformat_minor": 2
}
