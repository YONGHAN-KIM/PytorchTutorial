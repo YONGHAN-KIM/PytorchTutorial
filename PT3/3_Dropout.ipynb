{
 "cells": [
  {
   "cell_type": "code",
   "execution_count": 2,
   "metadata": {
    "ExecuteTime": {
     "end_time": "2018-10-30T04:09:25.330661Z",
     "start_time": "2018-10-30T04:09:24.854833Z"
    }
   },
   "outputs": [
    {
     "data": {
      "text/plain": [
       "<torch._C.Generator at 0x10dc11b70>"
      ]
     },
     "execution_count": 2,
     "metadata": {},
     "output_type": "execute_result"
    }
   ],
   "source": [
    "import torch\n",
    "import torch.nn as nn\n",
    "from torch.autograd import Variable\n",
    "import torch.optim as optim\n",
    "import torch.nn.functional as F\n",
    "import numpy as np\n",
    "import torchvision.transforms as transforms\n",
    "import torchvision.datasets as vdatasets\n",
    "import torchvision.utils as vutils\n",
    "from tensorboardX import SummaryWriter\n",
    "\n",
    "torch.manual_seed(1)"
   ]
  },
  {
   "cell_type": "markdown",
   "metadata": {},
   "source": [
    "# 1. MNIST데이터"
   ]
  },
  {
   "cell_type": "code",
   "execution_count": 3,
   "metadata": {
    "ExecuteTime": {
     "end_time": "2018-10-30T04:09:27.441020Z",
     "start_time": "2018-10-30T04:09:27.381632Z"
    }
   },
   "outputs": [],
   "source": [
    "BATCH_SIZE= 64\n",
    "train_dataset = vdatasets.MNIST(root='../data/MNIST/',\n",
    "                               train=True, \n",
    "                               transform=transforms.ToTensor(),\n",
    "                               download=False)\n",
    "\n",
    "\n",
    "train_loader = torch.utils.data.DataLoader(dataset=train_dataset,\n",
    "                                           batch_size=BATCH_SIZE, \n",
    "                                           shuffle=True,\n",
    "                                           num_workers=2)\n",
    "\n",
    "test_dataset = vdatasets.MNIST(root='../data/MNIST/',\n",
    "                               train=False, \n",
    "                               transform=transforms.ToTensor(),\n",
    "                               download=True)\n",
    "\n",
    "\n",
    "test_loader = torch.utils.data.DataLoader(dataset=test_dataset,\n",
    "                                           batch_size=BATCH_SIZE, \n",
    "                                           shuffle=False,\n",
    "                                           num_workers=2)"
   ]
  },
  {
   "cell_type": "markdown",
   "metadata": {},
   "source": [
    "# 2. 모델\n",
    "\n",
    "Training vs Evaluation  \n",
    "\n",
    "Before training the model, it is imperative to call model.train(). Likewise, you must call model.eval() before testing the model. This corrects for the differences in dropout, batch normalization during training and testing."
   ]
  },
  {
   "cell_type": "code",
   "execution_count": 4,
   "metadata": {
    "ExecuteTime": {
     "end_time": "2018-10-30T04:09:28.754364Z",
     "start_time": "2018-10-30T04:09:28.749367Z"
    }
   },
   "outputs": [],
   "source": [
    "class NN(nn.Module):\n",
    "    def __init__(self, input_size, hidden_size, output_size, dropout_p=0.5):\n",
    "        super(NN, self).__init__()\n",
    "        self.linear1= nn.Linear(input_size,hidden_size)\n",
    "        self.linear2= nn.Linear(hidden_size, hidden_size)\n",
    "        self.linear3= nn.Linear(hidden_size, output_size)\n",
    "        \n",
    "        self.dropout= nn.Dropout(dropout_p)\n",
    "        \n",
    "    def forward(self, inputs):\n",
    "        outputs= F.relu(self.linear1(inputs))\n",
    "        outputs= self.dropout(outputs)\n",
    "        outputs= F.relu(self.linear2(outputs))\n",
    "        outputs= self.dropout(outputs)\n",
    "        return self.linear3(outputs)"
   ]
  },
  {
   "cell_type": "code",
   "execution_count": 5,
   "metadata": {
    "ExecuteTime": {
     "end_time": "2018-10-30T04:09:29.376639Z",
     "start_time": "2018-10-30T04:09:29.360346Z"
    },
    "scrolled": false
   },
   "outputs": [
    {
     "data": {
      "text/plain": [
       "NN(\n",
       "  (linear1): Linear(in_features=784, out_features=512, bias=True)\n",
       "  (linear2): Linear(in_features=512, out_features=512, bias=True)\n",
       "  (linear3): Linear(in_features=512, out_features=10, bias=True)\n",
       "  (dropout): Dropout(p=0.5)\n",
       ")"
      ]
     },
     "execution_count": 5,
     "metadata": {},
     "output_type": "execute_result"
    }
   ],
   "source": [
    "INPUT_SIZE=train_dataset[0][0].size()[1]**2\n",
    "HIDDEN_SIZE= 512\n",
    "OUTPUT_SIZE=10\n",
    "\n",
    "model= NN(INPUT_SIZE, HIDDEN_SIZE, OUTPUT_SIZE)\n",
    "\n",
    "model.train() # train process\n",
    "\n",
    "model.eval() # test process\n"
   ]
  },
  {
   "cell_type": "markdown",
   "metadata": {},
   "source": [
    "# 3. 학습"
   ]
  },
  {
   "cell_type": "code",
   "execution_count": 6,
   "metadata": {
    "ExecuteTime": {
     "end_time": "2018-10-30T04:09:35.222915Z",
     "start_time": "2018-10-30T04:09:35.213241Z"
    }
   },
   "outputs": [],
   "source": [
    "EPOCH=15\n",
    "LR=0.1\n",
    "INPUT_SIZE=train_dataset[0][0].size()[1]**2\n",
    "HIDDEN_SIZE= 512\n",
    "OUTPUT_SIZE=10\n",
    "BATCH_SIZE=64\n",
    "NUM_LAYERS=1\n",
    "DROPOUT=0.5\n",
    "\n",
    "model= NN(INPUT_SIZE, HIDDEN_SIZE, OUTPUT_SIZE)\n",
    "\n",
    "loss_function= nn.CrossEntropyLoss()\n",
    "optimizer= optim.SGD(model.parameters(), lr=LR)"
   ]
  },
  {
   "cell_type": "code",
   "execution_count": 7,
   "metadata": {
    "ExecuteTime": {
     "end_time": "2018-10-30T04:09:39.452126Z",
     "start_time": "2018-10-30T04:09:39.447392Z"
    }
   },
   "outputs": [],
   "source": [
    "writer= SummaryWriter('runs/drop_out')"
   ]
  },
  {
   "cell_type": "code",
   "execution_count": 11,
   "metadata": {
    "ExecuteTime": {
     "end_time": "2018-10-30T04:13:06.341473Z",
     "start_time": "2018-10-30T04:11:33.904158Z"
    }
   },
   "outputs": [
    {
     "name": "stdout",
     "output_type": "stream",
     "text": [
      "[0/15] [000/938] mean_loss : 0.476\n",
      "[0/15] [500/938] mean_loss : 0.364\n",
      "[1/15] [000/938] mean_loss : 0.284\n",
      "[1/15] [500/938] mean_loss : 0.214\n",
      "[2/15] [000/938] mean_loss : 0.222\n",
      "[2/15] [500/938] mean_loss : 0.165\n",
      "[3/15] [000/938] mean_loss : 0.248\n",
      "[3/15] [500/938] mean_loss : 0.134\n",
      "[4/15] [000/938] mean_loss : 0.117\n",
      "[4/15] [500/938] mean_loss : 0.118\n",
      "[5/15] [000/938] mean_loss : 0.116\n",
      "[5/15] [500/938] mean_loss : 0.106\n",
      "[6/15] [000/938] mean_loss : 0.175\n",
      "[6/15] [500/938] mean_loss : 0.097\n",
      "[7/15] [000/938] mean_loss : 0.016\n",
      "[7/15] [500/938] mean_loss : 0.081\n",
      "[8/15] [000/938] mean_loss : 0.161\n",
      "[8/15] [500/938] mean_loss : 0.078\n",
      "[9/15] [000/938] mean_loss : 0.055\n",
      "[9/15] [500/938] mean_loss : 0.076\n",
      "[10/15] [000/938] mean_loss : 0.030\n",
      "[10/15] [500/938] mean_loss : 0.064\n",
      "[11/15] [000/938] mean_loss : 0.019\n",
      "[11/15] [500/938] mean_loss : 0.065\n",
      "[12/15] [000/938] mean_loss : 0.112\n",
      "[12/15] [500/938] mean_loss : 0.062\n",
      "[13/15] [000/938] mean_loss : 0.061\n",
      "[13/15] [500/938] mean_loss : 0.057\n",
      "[14/15] [000/938] mean_loss : 0.029\n",
      "[14/15] [500/938] mean_loss : 0.053\n",
      "CPU times: user 2min 29s, sys: 14.2 s, total: 2min 44s\n",
      "Wall time: 1min 32s\n"
     ]
    }
   ],
   "source": [
    "%%time\n",
    "model.train()\n",
    "j=0\n",
    "for epoch in range(EPOCH):\n",
    "    losses=[]\n",
    "    for i, (inputs, targets) in enumerate(train_loader):\n",
    "        model.zero_grad()\n",
    "        pred= model(inputs.view(len(inputs),-1))\n",
    "        loss= loss_function(pred, targets)\n",
    "        loss.backward()\n",
    "        optimizer.step()\n",
    "        losses.append(loss.data.tolist())\n",
    "        writer.add_scalar('data/drop_out', loss.data.tolist(), j)\n",
    "\n",
    "        j+=1\n",
    "        if i % 500 == 0:\n",
    "            print(\"[%d/%d] [%03d/%d] mean_loss : %.3f\" % (epoch,EPOCH,i,len(train_loader),np.mean(losses)))\n",
    "            losses=[]\n"
   ]
  },
  {
   "cell_type": "markdown",
   "metadata": {},
   "source": [
    "# 4. evaluation"
   ]
  },
  {
   "cell_type": "code",
   "execution_count": 34,
   "metadata": {
    "ExecuteTime": {
     "end_time": "2018-07-22T15:39:19.137369Z",
     "start_time": "2018-07-22T15:39:19.127394Z"
    }
   },
   "outputs": [],
   "source": [
    "def evaluation(data_loader, model):\n",
    "    model.eval() # for dropout at test time!\n",
    "    loss_function= nn.CrossEntropyLoss(size_average=False)\n",
    "    num_equal=0\n",
    "    losses=0\n",
    "    for inputs, targets in data_loader:\n",
    "        pred= model(inputs.view(len(inputs),-1))\n",
    "        losses += loss_function(pred, targets).data.tolist()\n",
    "        outputs= pred.max(1)[1] # argmax\n",
    "        num_equal += torch.eq(outputs, targets).sum().tolist()\n",
    "        \n",
    "    return num_equal/ len(data_loader.dataset), losses/len(data_loader.dataset) "
   ]
  },
  {
   "cell_type": "code",
   "execution_count": 45,
   "metadata": {
    "ExecuteTime": {
     "end_time": "2018-07-22T15:42:12.716814Z",
     "start_time": "2018-07-22T15:42:09.511588Z"
    }
   },
   "outputs": [
    {
     "name": "stdout",
     "output_type": "stream",
     "text": [
      "<train acc : > 0.996 / <train loss> : 0.015\n",
      "<test  acc : > 0.984 / <test  loss> : 0.054\n"
     ]
    }
   ],
   "source": [
    "train_acc, train_loss= evaluation(train_loader, model)\n",
    "test_acc, test_loss= evaluation(test_loader, model)\n",
    "\n",
    "print('<train acc : > {} / <train loss> : {}'.format(round(train_acc,3), round(train_loss,3)))\n",
    "print('<test  acc : > {} / <test  loss> : {}'.format(round(test_acc,3), round(test_loss,3)))"
   ]
  }
 ],
 "metadata": {
  "kernelspec": {
   "display_name": "Python 3",
   "language": "python",
   "name": "python3"
  },
  "language_info": {
   "codemirror_mode": {
    "name": "ipython",
    "version": 3
   },
   "file_extension": ".py",
   "mimetype": "text/x-python",
   "name": "python",
   "nbconvert_exporter": "python",
   "pygments_lexer": "ipython3",
   "version": "3.6.4"
  },
  "varInspector": {
   "cols": {
    "lenName": 16,
    "lenType": 16,
    "lenVar": 40
   },
   "kernels_config": {
    "python": {
     "delete_cmd_postfix": "",
     "delete_cmd_prefix": "del ",
     "library": "var_list.py",
     "varRefreshCmd": "print(var_dic_list())"
    },
    "r": {
     "delete_cmd_postfix": ") ",
     "delete_cmd_prefix": "rm(",
     "library": "var_list.r",
     "varRefreshCmd": "cat(var_dic_list()) "
    }
   },
   "types_to_exclude": [
    "module",
    "function",
    "builtin_function_or_method",
    "instance",
    "_Feature"
   ],
   "window_display": false
  }
 },
 "nbformat": 4,
 "nbformat_minor": 2
}
